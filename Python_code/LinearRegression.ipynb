{
 "cells": [
  {
   "cell_type": "code",
   "execution_count": 2,
   "metadata": {},
   "outputs": [
    {
     "name": "stdout",
     "output_type": "stream",
     "text": [
      "<class 'pandas.core.frame.DataFrame'>\n",
      "RangeIndex: 300 entries, 0 to 299\n",
      "Data columns (total 21 columns):\n",
      "ID                   300 non-null int64\n",
      "Month                300 non-null int64\n",
      "DayofMonth           300 non-null int64\n",
      "DayOfWeek            300 non-null int64\n",
      "FlightNum            300 non-null int64\n",
      "ActualElapsedTime    300 non-null float64\n",
      "CRSElapsedTime       300 non-null int64\n",
      "AirTime              300 non-null float64\n",
      "ArrDelay             300 non-null float64\n",
      "TotalDelay           300 non-null int64\n",
      "DepDelay             300 non-null int64\n",
      "Origin               300 non-null object\n",
      "Dest                 300 non-null object\n",
      "Distance             300 non-null int64\n",
      "TaxiIn               300 non-null float64\n",
      "TaxiOut              300 non-null int64\n",
      "CarrierDelay         300 non-null float64\n",
      "WeatherDelay         300 non-null float64\n",
      "NASDelay             300 non-null float64\n",
      "SecurityDelay        300 non-null float64\n",
      "LateAircraftDelay    300 non-null float64\n",
      "dtypes: float64(9), int64(10), object(2)\n",
      "memory usage: 49.3+ KB\n",
      "17\n",
      "Coefficients: \n",
      " [  0.00000000e+00   3.42694623e-15  -4.03249482e-14  -8.22638398e-17\n",
      "   8.32667268e-17  -6.00214323e-15   6.70297151e-15   1.00000000e+00\n",
      "   1.00000000e+00   1.52655666e-16   2.37310172e-15   3.84761667e-15\n",
      "   1.69309011e-15   7.77156117e-16   1.38777878e-16  -1.19348975e-15\n",
      "   2.41473508e-15]\n"
     ]
    }
   ],
   "source": [
    "import pandas as pd\n",
    "import numpy as np\n",
    "from sklearn import linear_model\n",
    "\n",
    "#read data from test.csv\n",
    "#test data\n",
    "tdata = pd.read_csv(\"trainFinal.csv\")\n",
    "rdata = pd.read_csv(\"testFinal.csv\")\n",
    "\n",
    "params=[]\n",
    "for param in tdata:\n",
    "    params.append(param)    \n",
    "\n",
    "#fill the blanks with 0\n",
    "for param in params:\n",
    "    tdata[param] = tdata[param].fillna(0)\n",
    "    rdata[param] = rdata[param].fillna(0)\n",
    "\n",
    "rdata.head()\n",
    "rdata.info()\n",
    "rdata.describe()\n",
    "xParam=[]\n",
    "yParam=[]\n",
    "\n",
    "for param in params:\n",
    "    if(param !=\"ID\" and param !=\"TotalDelay\" and param!=\"TailNum\" and param!=\"Origin\" and param!=\"Dest\"):\n",
    "        xParam.append(param)\n",
    "    else:\n",
    "        yParam.append(param)\n",
    "\n",
    "print(len(xParam))\n",
    "X_train = tdata[xParam]\n",
    "y_train = tdata[\"TotalDelay\"]\n",
    "\n",
    "X_test = rdata[xParam]\n",
    "y_test = rdata[\"TotalDelay\"]\n",
    "rdata[\"OriginalDelay\"] = rdata[\"TotalDelay\"]\n",
    "\n",
    "clf = linear_model.LinearRegression()\n",
    "clf = clf.fit(X_train, y_train)\n",
    "\n",
    "clf.predict(X_test)\n",
    "\n",
    "rdata[\"TotalDelay\"] = clf.predict(X_test)\n",
    "\n",
    "print('Coefficients: \\n', clf.coef_)\n",
    "\n",
    "rdata = pd.DataFrame(rdata, columns=[\"ID\", \"TotalDelay\", \"OriginalDelay\"])\n",
    "rdata.to_csv(\"LinearRegression.csv\", index=False)\n"
   ]
  },
  {
   "cell_type": "code",
   "execution_count": null,
   "metadata": {},
   "outputs": [],
   "source": []
  },
  {
   "cell_type": "code",
   "execution_count": null,
   "metadata": {},
   "outputs": [],
   "source": []
  }
 ],
 "metadata": {
  "kernelspec": {
   "display_name": "Python 3",
   "language": "python",
   "name": "python3"
  },
  "language_info": {
   "codemirror_mode": {
    "name": "ipython",
    "version": 3
   },
   "file_extension": ".py",
   "mimetype": "text/x-python",
   "name": "python",
   "nbconvert_exporter": "python",
   "pygments_lexer": "ipython3",
   "version": "3.5.2"
  }
 },
 "nbformat": 4,
 "nbformat_minor": 2
}
