{
 "cells": [
  {
   "cell_type": "code",
   "execution_count": 1,
   "metadata": {
    "scrolled": true
   },
   "outputs": [
    {
     "name": "stdout",
     "output_type": "stream",
     "text": [
      "<class 'pandas.core.frame.DataFrame'>\n",
      "RangeIndex: 300 entries, 0 to 299\n",
      "Data columns (total 21 columns):\n",
      "ID                   300 non-null int64\n",
      "Month                300 non-null int64\n",
      "DayofMonth           300 non-null int64\n",
      "DayOfWeek            300 non-null int64\n",
      "FlightNum            300 non-null int64\n",
      "ActualElapsedTime    300 non-null float64\n",
      "CRSElapsedTime       300 non-null int64\n",
      "AirTime              300 non-null float64\n",
      "ArrDelay             300 non-null float64\n",
      "TotalDelay           300 non-null int64\n",
      "DepDelay             300 non-null int64\n",
      "Origin               300 non-null object\n",
      "Dest                 300 non-null object\n",
      "Distance             300 non-null int64\n",
      "TaxiIn               300 non-null float64\n",
      "TaxiOut              300 non-null int64\n",
      "CarrierDelay         300 non-null float64\n",
      "WeatherDelay         300 non-null float64\n",
      "NASDelay             300 non-null float64\n",
      "SecurityDelay        300 non-null float64\n",
      "LateAircraftDelay    300 non-null float64\n",
      "dtypes: float64(9), int64(10), object(2)\n",
      "memory usage: 49.3+ KB\n"
     ]
    }
   ],
   "source": [
    "import pandas as pd\n",
    "import numpy as np\n",
    "from sklearn.ensemble import RandomForestClassifier\n",
    "\n",
    "#read data from test.csv\n",
    "#test data\n",
    "tdata = pd.read_csv(\"trainFinal.csv\")\n",
    "rdata = pd.read_csv(\"testFinal.csv\")\n",
    "\n",
    "params=[]\n",
    "for param in tdata:\n",
    "    params.append(param)    \n",
    "\n",
    "#fill the blanks with 0\n",
    "for param in params:\n",
    "    tdata[param] = tdata[param].fillna(0)\n",
    "    rdata[param] = rdata[param].fillna(0)\n",
    "    \n",
    "#code that shows top 5 data from test.csv\n",
    "tdata.head()\n",
    "rdata.head()\n",
    "rdata.info()\n",
    "rdata.describe() \n",
    "\n",
    "xParam=[]\n",
    "yParam=[]\n",
    "\n",
    "for param in params:\n",
    "    if(param ==\"DayofMonth\" or param ==\"FlightNum\" or param==\"Distance\" or param ==\"TaxiIn\" or param==\"TaxiOut\" or param==\"AirTime\"):\n",
    "        xParam.append(param)\n",
    "    else:\n",
    "        yParam.append(param)\n",
    "\n",
    "X_train = tdata[xParam]\n",
    "y_train = tdata[\"TotalDelay\"]\n",
    "X_test = rdata[xParam]\n",
    "y_test = rdata[\"TotalDelay\"]\n",
    "rdata[\"OriginalDelay\"] = rdata[\"TotalDelay\"]\n",
    "\n",
    "clf = RandomForestClassifier(n_estimators=100)\n",
    "clf.fit(X_train, y_train)\n",
    "\n",
    "ls=[x for x in clf.feature_importances_]\n",
    "_dict={}\n",
    "for x in range(len(xParam)):\n",
    "    _dict[xParam[x]] = ls[x]\n",
    "\n",
    "clf.predict(X_test)\n",
    "rdata[\"TotalDelay\"] = clf.predict(X_test)\n",
    "\n",
    "rdata = pd.DataFrame(rdata, columns=[\"ID\", \"TotalDelay\", \"OriginalDelay\"])\n",
    "rdata.to_csv(\"random_forestTop6.csv\", index=False)"
   ]
  },
  {
   "cell_type": "code",
   "execution_count": null,
   "metadata": {},
   "outputs": [],
   "source": []
  }
 ],
 "metadata": {
  "kernelspec": {
   "display_name": "Python 3",
   "language": "python",
   "name": "python3"
  },
  "language_info": {
   "codemirror_mode": {
    "name": "ipython",
    "version": 3
   },
   "file_extension": ".py",
   "mimetype": "text/x-python",
   "name": "python",
   "nbconvert_exporter": "python",
   "pygments_lexer": "ipython3",
   "version": "3.5.2"
  }
 },
 "nbformat": 4,
 "nbformat_minor": 2
}
